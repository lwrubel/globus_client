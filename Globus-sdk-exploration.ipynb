{
 "cells": [
  {
   "cell_type": "markdown",
   "id": "ab6caae0-8771-4c53-a3a3-4f07e3d95679",
   "metadata": {},
   "source": [
    "# Globus Python SDK \n",
    "\n",
    "Globus Tutorial and [Minimaml Transfer Script](https://globus-sdk-python.readthedocs.io/en/stable/examples/minimal_transfer_script.html#example-minimal-transfer) show how to set up and use an endpoint and to transfer data.  "
   ]
  },
  {
   "cell_type": "markdown",
   "id": "037010b6-75aa-4e0e-b1a5-346aa6d87eb6",
   "metadata": {},
   "source": [
    "## Using SDK example code to connect with CLIENT_ID"
   ]
  },
  {
   "cell_type": "code",
   "execution_count": null,
   "id": "558eb0cd-03be-467e-acba-694cbd96d5f0",
   "metadata": {},
   "outputs": [],
   "source": [
    "import requests\n",
    "from globus_sdk import TransferClient\n",
    "\n",
    "CLIENT_ID = \"\"\n",
    "CLIENT_SECRET = \"\" \n",
    "ENDPOINT_ID = \"34ea3e65-6831-479a-8da3-87f118e3fc2b\"\n",
    "GUEST_COLLECTION_ID = \"GUEST_COLLECTION_ID\"\n",
    "IDENTITY_ID = \"\" \n",
    "\n",
    "# Docs suggest this is the scope to request for setting ACLs (https://docs.globus.org/globus-connect-server/v5/use-client-credentials/#obtain_access_tokens)\n",
    "SCOPES=\"urn:globus:auth:scope:transfer.api.globus.org:all\"\n"
   ]
  },
  {
   "cell_type": "code",
   "execution_count": null,
   "id": "61175a38-eaef-489a-b019-db8ded2016e8",
   "metadata": {},
   "outputs": [],
   "source": [
    "from globus_sdk import ConfidentialAppAuthClient\n",
    "\n",
    "# ac used in later examples for get_identities calls\n",
    "ac = ConfidentialAppAuthClient(CLIENT_ID, CLIENT_SECRET)\n",
    "\n",
    "# get an access token\n",
    "authorizer = globus_sdk.ClientCredentialsAuthorizer(\n",
    "    globus_sdk.ConfidentialAppAuthClient(\n",
    "        CLIENT_ID,\n",
    "        CLIENT_SECRET,\n",
    "    ),\n",
    "    SCOPES\n",
    ")"
   ]
  },
  {
   "cell_type": "code",
   "execution_count": null,
   "id": "5b423f12-b1b3-4e4a-be0f-1379f05f80f0",
   "metadata": {},
   "outputs": [],
   "source": [
    "authorizer.access_token"
   ]
  },
  {
   "cell_type": "markdown",
   "id": "821e52a2-f062-4c7a-90e2-2c8e1dd1ea1c",
   "metadata": {},
   "source": [
    "How to look up a user by their identity ID:"
   ]
  },
  {
   "cell_type": "code",
   "execution_count": null,
   "id": "e1a040af-b845-4b8b-8586-06338bfac889",
   "metadata": {},
   "outputs": [],
   "source": [
    "r = ac.get_identities(ids=IDENTITY_ID)\n",
    "r"
   ]
  },
  {
   "cell_type": "code",
   "execution_count": null,
   "id": "6c6eed24-3b76-4c27-9c6d-97ece0bd6379",
   "metadata": {},
   "outputs": [],
   "source": [
    "tc = TransferClient(authorizer=authorizer)"
   ]
  },
  {
   "cell_type": "code",
   "execution_count": null,
   "id": "a4099ca3-e7ba-4e02-b856-b62fac4b8186",
   "metadata": {},
   "outputs": [],
   "source": [
    "for entry in tc.operation_ls(ENDPOINT_ID, path=\"/\"):\n",
    "    print(entry)"
   ]
  },
  {
   "cell_type": "code",
   "execution_count": null,
   "id": "41871fb3-5f18-4a95-b39f-a7a166eeaf6e",
   "metadata": {},
   "outputs": [],
   "source": [
    "tc.operation_mkdir(ENDPOINT_ID, path=\"/test\")\n",
    "\n",
    "# will raise TransferAPIError if directory already exists"
   ]
  },
  {
   "cell_type": "code",
   "execution_count": null,
   "id": "0acf0ee6-ca73-45b1-8cc0-33b9e0e08180",
   "metadata": {},
   "outputs": [],
   "source": [
    "tc.operation_mkdir(ENDPOINT_ID, path=\"/test/version1\")"
   ]
  },
  {
   "cell_type": "code",
   "execution_count": null,
   "id": "42d4bcb7-bda7-4ba9-b64e-7af811bd6584",
   "metadata": {},
   "outputs": [],
   "source": [
    "for entry in tc.operation_ls(ENDPOINT_ID, path=\"/test/version1\"):\n",
    "    print(entry)"
   ]
  },
  {
   "cell_type": "markdown",
   "id": "7939cddb-ee27-47c6-b9d4-e8a48f2b4593",
   "metadata": {},
   "source": [
    "Can't list ACLs or roles on the endpoint:"
   ]
  },
  {
   "cell_type": "code",
   "execution_count": null,
   "id": "0e028cd6-feef-4c01-939b-c1690fda0eac",
   "metadata": {},
   "outputs": [],
   "source": [
    "tc.endpoint_acl_list(ENDPOINT_ID)"
   ]
  },
  {
   "cell_type": "code",
   "execution_count": null,
   "id": "6f233600-4028-4c59-8c2f-9bb39d07269f",
   "metadata": {},
   "outputs": [],
   "source": [
    "tc.endpoint_role_list(dest_endpoint_id)"
   ]
  },
  {
   "cell_type": "code",
   "execution_count": null,
   "id": "8bf402c7-7050-4e27-a355-3c394a5cacab",
   "metadata": {},
   "outputs": [],
   "source": [
    "GUEST_COLLECTION_ID = \"34ea3e65-6831-479a-8da3-87f118e3fc2b\"\n",
    "IDENTITY_ID = \"\" \n",
    "\n",
    "SCOPES=\"urn:globus:auth:scope:transfer.api.globus.org:all\"\n",
    "\n",
    "authorizer = globus_sdk.ClientCredentialsAuthorizer(\n",
    "    globus_sdk.ConfidentialAppAuthClient(\n",
    "        CLIENT_ID,\n",
    "        CLIENT_SECRET,\n",
    "    ),\n",
    "    SCOPES\n",
    ")\n",
    "\n",
    "transfer_client = globus_sdk.TransferClient(authorizer=authorizer)\n",
    "\n",
    "rule_data = {\n",
    "    \"DATA_TYPE\": \"access\",\n",
    "    \"principal_type\": \"identity\",\n",
    "    \"principal\": IDENTITY_ID,\n",
    "    \"path\": \"/test/\",\n",
    "    \"permissions\": \"r\",\n",
    "}\n",
    "transfer_client.add_endpoint_acl_rule(GUEST_COLLECTION_ID, rule_data)"
   ]
  },
  {
   "cell_type": "code",
   "execution_count": null,
   "id": "afd8587f-848d-473d-9523-cfb361531b29",
   "metadata": {},
   "outputs": [],
   "source": [
    "# try deleting a dir\n",
    "ddata = globus_sdk.DeleteData(tc, ENDPOINT_ID, recursive=True)\n",
    "ddata.add_item(\"/test\")\n",
    "delete_result = tc.submit_delete(ddata)\n",
    "\n",
    "print(\"task_id =\", delete_result[\"task_id\"])"
   ]
  },
  {
   "cell_type": "markdown",
   "id": "d4f1fa44-617b-4e1c-ac35-ca5bb767737d",
   "metadata": {},
   "source": [
    "## Using the CLI\n",
    "\n",
    "[QuickStart Guide](https://docs.globus.org/cli/quickstart/)\n",
    "\n",
    "Do not use `globus login` command. Set GLOBUS_CLIENT_ID and GLOBUS_CLIENT_SECRET as environment variables. "
   ]
  },
  {
   "cell_type": "code",
   "execution_count": null,
   "id": "fd7efd7b-4a67-46ba-9d15-0576a005c867",
   "metadata": {},
   "outputs": [],
   "source": [
    "%env GLOBUS_CLI_CLIENT_ID=\n",
    "%env GLOBUS_CLI_CLIENT_SECRET="
   ]
  },
  {
   "cell_type": "code",
   "execution_count": null,
   "id": "2a8beeed-0408-49ac-8393-9978e12096a2",
   "metadata": {},
   "outputs": [],
   "source": [
    "! globus ls '34ea3e65-6831-479a-8da3-87f118e3fc2b'"
   ]
  },
  {
   "cell_type": "code",
   "execution_count": null,
   "id": "0a9f4d6b-2e85-45e2-a86a-a748e8368854",
   "metadata": {},
   "outputs": [],
   "source": [
    "! globus mkdir 34ea3e65-6831-479a-8da3-87f118e3fc2b:test2"
   ]
  },
  {
   "cell_type": "code",
   "execution_count": null,
   "id": "b9ded570-71c6-4f73-97d8-7d6ed539a92a",
   "metadata": {},
   "outputs": [],
   "source": [
    "! globus ls '34ea3e65-6831-479a-8da3-87f118e3fc2b'"
   ]
  },
  {
   "cell_type": "code",
   "execution_count": null,
   "id": "d3555d57-cedb-4466-88d9-495b4a197ac1",
   "metadata": {},
   "outputs": [],
   "source": [
    "! globus collection list 34ea3e65-6831-479a-8da3-87f118e3fc2b"
   ]
  },
  {
   "cell_type": "code",
   "execution_count": null,
   "id": "f069b9a0-0ec3-4046-8afa-d05634253ea2",
   "metadata": {},
   "outputs": [],
   "source": [
    "! globus collection show 34ea3e65-6831-479a-8da3-87f118e3fc2b -v"
   ]
  },
  {
   "cell_type": "code",
   "execution_count": null,
   "id": "fb3c2629-81e0-4198-96cb-b47ef8eeaa7c",
   "metadata": {},
   "outputs": [],
   "source": [
    "! globus get-identities -v 'lwrubel@stanford.edu'"
   ]
  },
  {
   "cell_type": "code",
   "execution_count": null,
   "id": "3a83b423-01de-4a71-9743-6f8859da40b4",
   "metadata": {},
   "outputs": [],
   "source": [
    "! globus collection list 34ea3e65-6831-479a-8da3-87f118e3fc2b"
   ]
  },
  {
   "cell_type": "code",
   "execution_count": null,
   "id": "11389597-a635-4e37-ac6f-4d8063b10a6b",
   "metadata": {},
   "outputs": [],
   "source": [
    "# https://docs.globus.org/cli/reference/endpoint_permission_create/\n",
    "! globus endpoint permission create --identity lwrubel@stanford.edu 34ea3e65-6831-479a-8da3-87f118e3fc2b:/test2/ --permissions rw"
   ]
  },
  {
   "cell_type": "code",
   "execution_count": null,
   "id": "75b0b311-b299-4dd7-83d5-15f698bf07ca",
   "metadata": {},
   "outputs": [],
   "source": []
  }
 ],
 "metadata": {
  "kernelspec": {
   "display_name": "Python 3 (ipykernel)",
   "language": "python",
   "name": "python3"
  },
  "language_info": {
   "codemirror_mode": {
    "name": "ipython",
    "version": 3
   },
   "file_extension": ".py",
   "mimetype": "text/x-python",
   "name": "python",
   "nbconvert_exporter": "python",
   "pygments_lexer": "ipython3",
   "version": "3.10.6"
  }
 },
 "nbformat": 4,
 "nbformat_minor": 5
}
